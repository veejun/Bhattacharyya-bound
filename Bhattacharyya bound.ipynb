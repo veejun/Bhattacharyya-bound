{
 "cells": [
  {
   "cell_type": "code",
   "execution_count": 22,
   "metadata": {},
   "outputs": [],
   "source": [
    "import numpy as np\n",
    "from numpy.linalg import inv\n",
    "from numpy.linalg import det\n",
    "import pandas as pd"
   ]
  },
  {
   "cell_type": "markdown",
   "metadata": {},
   "source": [
    "## Step 1: Load Data"
   ]
  },
  {
   "cell_type": "code",
   "execution_count": 23,
   "metadata": {},
   "outputs": [
    {
     "data": {
      "text/html": [
       "<div>\n",
       "<style scoped>\n",
       "    .dataframe tbody tr th:only-of-type {\n",
       "        vertical-align: middle;\n",
       "    }\n",
       "\n",
       "    .dataframe tbody tr th {\n",
       "        vertical-align: top;\n",
       "    }\n",
       "\n",
       "    .dataframe thead th {\n",
       "        text-align: right;\n",
       "    }\n",
       "</style>\n",
       "<table border=\"1\" class=\"dataframe\">\n",
       "  <thead>\n",
       "    <tr style=\"text-align: right;\">\n",
       "      <th></th>\n",
       "      <th>Class</th>\n",
       "      <th>Alcohol</th>\n",
       "      <th>Malic acid</th>\n",
       "      <th>Ash</th>\n",
       "      <th>Alcalinity of ash</th>\n",
       "      <th>Magnesium</th>\n",
       "      <th>Total phenols</th>\n",
       "      <th>Flavanoids</th>\n",
       "      <th>Nonflavanoid phenols</th>\n",
       "      <th>Proanthocyanins</th>\n",
       "      <th>Color intensity</th>\n",
       "      <th>Hue</th>\n",
       "      <th>OD</th>\n",
       "      <th>Proline</th>\n",
       "    </tr>\n",
       "  </thead>\n",
       "  <tbody>\n",
       "    <tr>\n",
       "      <th>0</th>\n",
       "      <td>1</td>\n",
       "      <td>14.23</td>\n",
       "      <td>1.71</td>\n",
       "      <td>2.43</td>\n",
       "      <td>15.6</td>\n",
       "      <td>127</td>\n",
       "      <td>2.80</td>\n",
       "      <td>3.06</td>\n",
       "      <td>0.28</td>\n",
       "      <td>2.29</td>\n",
       "      <td>5.64</td>\n",
       "      <td>1.04</td>\n",
       "      <td>3.92</td>\n",
       "      <td>1065</td>\n",
       "    </tr>\n",
       "    <tr>\n",
       "      <th>1</th>\n",
       "      <td>1</td>\n",
       "      <td>13.20</td>\n",
       "      <td>1.78</td>\n",
       "      <td>2.14</td>\n",
       "      <td>11.2</td>\n",
       "      <td>100</td>\n",
       "      <td>2.65</td>\n",
       "      <td>2.76</td>\n",
       "      <td>0.26</td>\n",
       "      <td>1.28</td>\n",
       "      <td>4.38</td>\n",
       "      <td>1.05</td>\n",
       "      <td>3.40</td>\n",
       "      <td>1050</td>\n",
       "    </tr>\n",
       "    <tr>\n",
       "      <th>2</th>\n",
       "      <td>1</td>\n",
       "      <td>13.16</td>\n",
       "      <td>2.36</td>\n",
       "      <td>2.67</td>\n",
       "      <td>18.6</td>\n",
       "      <td>101</td>\n",
       "      <td>2.80</td>\n",
       "      <td>3.24</td>\n",
       "      <td>0.30</td>\n",
       "      <td>2.81</td>\n",
       "      <td>5.68</td>\n",
       "      <td>1.03</td>\n",
       "      <td>3.17</td>\n",
       "      <td>1185</td>\n",
       "    </tr>\n",
       "    <tr>\n",
       "      <th>3</th>\n",
       "      <td>1</td>\n",
       "      <td>14.37</td>\n",
       "      <td>1.95</td>\n",
       "      <td>2.50</td>\n",
       "      <td>16.8</td>\n",
       "      <td>113</td>\n",
       "      <td>3.85</td>\n",
       "      <td>3.49</td>\n",
       "      <td>0.24</td>\n",
       "      <td>2.18</td>\n",
       "      <td>7.80</td>\n",
       "      <td>0.86</td>\n",
       "      <td>3.45</td>\n",
       "      <td>1480</td>\n",
       "    </tr>\n",
       "    <tr>\n",
       "      <th>4</th>\n",
       "      <td>1</td>\n",
       "      <td>13.24</td>\n",
       "      <td>2.59</td>\n",
       "      <td>2.87</td>\n",
       "      <td>21.0</td>\n",
       "      <td>118</td>\n",
       "      <td>2.80</td>\n",
       "      <td>2.69</td>\n",
       "      <td>0.39</td>\n",
       "      <td>1.82</td>\n",
       "      <td>4.32</td>\n",
       "      <td>1.04</td>\n",
       "      <td>2.93</td>\n",
       "      <td>735</td>\n",
       "    </tr>\n",
       "  </tbody>\n",
       "</table>\n",
       "</div>"
      ],
      "text/plain": [
       "   Class  Alcohol  Malic acid   Ash  Alcalinity of ash  Magnesium  \\\n",
       "0      1    14.23        1.71  2.43               15.6        127   \n",
       "1      1    13.20        1.78  2.14               11.2        100   \n",
       "2      1    13.16        2.36  2.67               18.6        101   \n",
       "3      1    14.37        1.95  2.50               16.8        113   \n",
       "4      1    13.24        2.59  2.87               21.0        118   \n",
       "\n",
       "   Total phenols  Flavanoids  Nonflavanoid phenols  Proanthocyanins  \\\n",
       "0           2.80        3.06                  0.28             2.29   \n",
       "1           2.65        2.76                  0.26             1.28   \n",
       "2           2.80        3.24                  0.30             2.81   \n",
       "3           3.85        3.49                  0.24             2.18   \n",
       "4           2.80        2.69                  0.39             1.82   \n",
       "\n",
       "   Color intensity   Hue    OD  Proline  \n",
       "0             5.64  1.04  3.92     1065  \n",
       "1             4.38  1.05  3.40     1050  \n",
       "2             5.68  1.03  3.17     1185  \n",
       "3             7.80  0.86  3.45     1480  \n",
       "4             4.32  1.04  2.93      735  "
      ]
     },
     "execution_count": 23,
     "metadata": {},
     "output_type": "execute_result"
    }
   ],
   "source": [
    "df = pd.read_table('wine.data',sep = \",\",header = None, names = ['Class','Alcohol','Malic acid','Ash','Alcalinity of ash','Magnesium','Total phenols','Flavanoids','Nonflavanoid phenols','Proanthocyanins','Color intensity','Hue','OD','Proline'])\n",
    "df.head()"
   ]
  },
  {
   "attachments": {
    "image.png": {
     "image/png": "[encoded data removed]"
    }
   },
   "cell_type": "markdown",
   "metadata": {},
   "source": [
    "## Step 2: Select s=1/2 for normal distributions\n",
    "![image.png](attachment:image.png)"
   ]
  },
  {
   "cell_type": "code",
   "execution_count": 24,
   "metadata": {},
   "outputs": [],
   "source": [
    "data = df.groupby(\"Class\")\n",
    "\n",
    "# calculate mean\n",
    "mean1 = data.get_group(1).iloc[:,1:].mean()\n",
    "mean2 = data.get_group(2).iloc[:,1:].mean()\n",
    "mean3 = data.get_group(3).iloc[:,1:].mean()\n",
    "\n",
    "# calculate the covariance matrix\n",
    "cov1 = data.get_group(1).iloc[:,1:].cov()\n",
    "cov2 = data.get_group(2).iloc[:,1:].cov()\n",
    "cov3 = data.get_group(3).iloc[:,1:].cov()\n",
    "\n",
    "# calculate the inverse of 1/2 two covariance matrices\n",
    "# cov1 and cov2\n",
    "inv_12 = inv((cov1 + cov2) / 2)\n",
    "# cov1 and cov3\n",
    "inv_13 = inv((cov1 + cov3) / 2)\n",
    "# cov2 and cov3\n",
    "inv_23 = inv((cov2 + cov3) / 2)\n",
    "\n",
    "# calculate the determinant of covariance matrix\n",
    "det1 = det(cov1)\n",
    "det2 = det(cov2)\n",
    "det3 = det(cov3)\n",
    "\n",
    "# calculate the determinant of 1/2 two covariance matrices\n",
    "# cov1 and cov2\n",
    "det_12 = det((cov1 + cov2) / 2)\n",
    "# cov1 and cov3\n",
    "det_13 = det((cov1 + cov3) / 2)\n",
    "# cov2 and cov3\n",
    "det_23 = det((cov2 + cov3) / 2)\n",
    "\n",
    "\n",
    "# calculate normal distributions \n",
    "# class 1 and class 2\n",
    "nd_12 = np.transpose(mean2 - mean1).dot(inv_12).dot(mean2 - mean1)/8 + np.log(det_12 / np.sqrt(det1 * det2))/2\n",
    "# class 1 and class 3\n",
    "nd_13 = np.transpose(mean3 - mean1).dot(inv_13).dot(mean3 - mean1)/8 + np.log(det_13 / np.sqrt(det1 * det3))/2\n",
    "# class 2 and class 3\n",
    "nd_23 = np.transpose(mean3 - mean2).dot(inv_23).dot(mean3 - mean2)/8 + np.log(det_12 / np.sqrt(det1 * det2))/2"
   ]
  },
  {
   "attachments": {
    "image.png": {
     "image/png": "[encoded data removed]"
    }
   },
   "cell_type": "markdown",
   "metadata": {},
   "source": [
    "## Step 3: Calculate the upper bound\n",
    "![image.png](attachment:image.png)"
   ]
  },
  {
   "cell_type": "code",
   "execution_count": 39,
   "metadata": {},
   "outputs": [
    {
     "name": "stdout",
     "output_type": "stream",
     "text": [
      "The upper bound of class 1 and class 2:  0.005009754739649732\n",
      "The upper bound of class 1 and class 3:  1.6131966812848823e-08\n",
      "The upper bound of class 2 and class 3:  0.0026070241978549515\n"
     ]
    }
   ],
   "source": [
    "# calculate the probability\n",
    "prob1 = data.size().iloc[0] / 178\n",
    "prob2 = data.size().iloc[1] / 178\n",
    "prob3 = data.size().iloc[2] / 178\n",
    "\n",
    "# calculate the upper bound of class 1 and class 2\n",
    "bound_12 = np.sqrt(prob1 * prob2) * np.exp(-nd_12)\n",
    "\n",
    "# calculate the upper bound of class 1 and class 3\n",
    "bound_13 = np.sqrt(prob1 * prob3) * np.exp(-nd_13)\n",
    "\n",
    "# calculate the upper bound of class 2 and class 3\n",
    "bound_23 = np.sqrt(prob2 * prob3) * np.exp(-nd_23)\n",
    "print(\"The upper bound of class 1 and class 2: \", bound_12)\n",
    "print(\"The upper bound of class 1 and class 3: \", bound_13)\n",
    "print(\"The upper bound of class 2 and class 3: \", bound_23)"
   ]
  },
  {
   "cell_type": "code",
   "execution_count": null,
   "metadata": {},
   "outputs": [],
   "source": []
  }
 ],
 "metadata": {
  "kernelspec": {
   "display_name": "Python 3",
   "language": "python",
   "name": "python3"
  },
  "language_info": {
   "codemirror_mode": {
    "name": "ipython",
    "version": 3
   },
   "file_extension": ".py",
   "mimetype": "text/x-python",
   "name": "python",
   "nbconvert_exporter": "python",
   "pygments_lexer": "ipython3",
   "version": "3.7.6"
  }
 },
 "nbformat": 4,
 "nbformat_minor": 4
}
